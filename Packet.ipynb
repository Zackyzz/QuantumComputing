{
 "cells": [
  {
   "cell_type": "code",
   "execution_count": 1,
   "metadata": {},
   "outputs": [
    {
     "data": {
      "text/plain": [
       "2"
      ]
     },
     "execution_count": 1,
     "metadata": {},
     "output_type": "execute_result"
    }
   ],
   "source": [
    "using LinearAlgebra, Random\n",
    "const N = 2"
   ]
  },
  {
   "cell_type": "code",
   "execution_count": 2,
   "metadata": {},
   "outputs": [],
   "source": [
    "#base gates\n",
    "braket0 = [1 0; 0 0]\n",
    "braket1 = [0 0; 0 1]\n",
    "Hm = [1/sqrt(2) 1/sqrt(2); 1/sqrt(2) -1/sqrt(2)]\n",
    "Xm = [0 1; 1 0]\n",
    "Ym = [0 -im; im 0]\n",
    "Zm = [1 0; 0 -1]\n",
    "Sm = [1 0; 0 im]\n",
    "Im = [1 0; 0 1]\n",
    "Vm = [(1+1im)/2 (1-1im)/2; (1-1im)/2 (1+1im)/2]\n",
    "Um(theta) = [cos(theta) -sin(theta); sin(theta) cos(theta)]\n",
    "Pm(theta) = [0 0; 0 exp(im*theta)];"
   ]
  },
  {
   "cell_type": "code",
   "execution_count": 3,
   "metadata": {},
   "outputs": [],
   "source": [
    "Identity(n) = Matrix(I, n, n)\n",
    "\n",
    "expand(gate, index) = kron(Identity(1 << (index - 1)), gate, Identity(1 << (N - index)))\n",
    "\n",
    "function control_gate(gate, control, target)\n",
    "    control = control - 1\n",
    "    target = target - 1\n",
    "    if control == target\n",
    "        return Identity(1 << N)\n",
    "    elseif control < target\n",
    "        return kron(Identity(1 << control),\n",
    "                    kron(braket0, Identity(1 << (target - control)))\n",
    "                    + kron(braket1, Identity(1 << (target - control - 1)), gate),\n",
    "                    Identity(1 << (N - target - 1)))\n",
    "    elseif control > target\n",
    "        return kron(Identity(1 << target),\n",
    "                    kron(Identity(1 << (control - target)), braket0)\n",
    "                    + kron(gate, Identity(1 << (control - target - 1)), braket1),\n",
    "                    Identity(1 << (N - control - 1)))\n",
    "    end\n",
    "end;"
   ]
  },
  {
   "cell_type": "code",
   "execution_count": 4,
   "metadata": {},
   "outputs": [],
   "source": [
    "#gates\n",
    "H(n) = expand(Hm, n)\n",
    "X(n) = expand(Xm, n)\n",
    "Y(n) = expand(Ym, n)\n",
    "Z(n) = expand(Zm, n)\n",
    "S(n) = expand(Sm, n)\n",
    "XX(n) = expand(Im, n)\n",
    "U(n, theta) = expand(Um(theta), n)\n",
    "P(n, theta) = expand(Pm(theta), n)\n",
    "CNOT(a, b) = control_gate(Xm, a, b)\n",
    "CZ(a, b) = control_gate(Zm, a, b)\n",
    "SWAP(a, b) = CNOT(a,b) * CNOT(b,a) * CNOT(a,b)\n",
    "CCNOT(a, b, t) = real.(control_gate(Vm, b, t) * CNOT(a, b) * adjoint(control_gate(Vm, b, t)) * CNOT(a, b) * control_gate(Vm, a, t))\n",
    "HN() = kron(fill(Hm, N)...);"
   ]
  },
  {
   "cell_type": "code",
   "execution_count": 5,
   "metadata": {},
   "outputs": [
    {
     "data": {
      "text/plain": [
       "get_gate (generic function with 1 method)"
      ]
     },
     "execution_count": 5,
     "metadata": {},
     "output_type": "execute_result"
    }
   ],
   "source": [
    "single_gates = [:(H) :(X) :(Z)]\n",
    "duo_gates = [:(CNOT) :(CZ)]\n",
    "\n",
    "function get_gate()\n",
    "    if rand() < 0.75\n",
    "        return Expr(:call, single_gates[rand((1:3))], rand((1:N)))\n",
    "    else\n",
    "        return Expr(:call, duo_gates[rand((1:2))], rand((1:N)), rand((1:N)))\n",
    "    end\n",
    "end"
   ]
  },
  {
   "cell_type": "code",
   "execution_count": 6,
   "metadata": {},
   "outputs": [
    {
     "data": {
      "text/plain": [
       "permute_mutation (generic function with 1 method)"
      ]
     },
     "execution_count": 6,
     "metadata": {},
     "output_type": "execute_result"
    }
   ],
   "source": [
    "function full_mutation(program)\n",
    "    clone = deepcopy(program)\n",
    "    clone[rand((1:program_size))] = get_gate()\n",
    "    return clone\n",
    "end\n",
    "\n",
    "function index_mutation(program)\n",
    "    clone = deepcopy(program)\n",
    "    rnd = rand((1:program_size))\n",
    "    if clone[rnd].args[1] in single_gates\n",
    "        clone[rnd].args[2] = rand((1:N))\n",
    "    elseif clone[rnd].args[1] in duo_gates\n",
    "        clone[rnd].args[rand((2:3))] = rand((1:N))\n",
    "    end\n",
    "    return clone\n",
    "end\n",
    "\n",
    "function gate_mutation(program)\n",
    "    clone = deepcopy(program)\n",
    "    rnd = rand((1:program_size))\n",
    "    if clone[rnd].args[1] in single_gates\n",
    "        clone[rnd].args[1] = single_gates[rand((1:3))]\n",
    "    elseif clone[rnd].args[1] in duo_gates\n",
    "        clone[rnd].args[1] = duo_gates[rand((1:2))]\n",
    "    end\n",
    "    return clone\n",
    "end\n",
    "\n",
    "function permute_mutation(program)\n",
    "    clone = deepcopy(program)\n",
    "    rnd = rand((1:program_size), 1, 2)\n",
    "    temp = clone[rnd[1]]\n",
    "    clone[rnd[1]] = clone[rnd[2]]\n",
    "    clone[rnd[2]] = temp\n",
    "    return clone\n",
    "end"
   ]
  },
  {
   "cell_type": "code",
   "execution_count": 7,
   "metadata": {},
   "outputs": [
    {
     "data": {
      "text/plain": [
       "uniform_crossover (generic function with 1 method)"
      ]
     },
     "execution_count": 7,
     "metadata": {},
     "output_type": "execute_result"
    }
   ],
   "source": [
    "function one_point_crossover(program1, program2)\n",
    "    clone1 = deepcopy(program1)\n",
    "    clone2 = deepcopy(program2)\n",
    "    rnd = rand((1:program_size))\n",
    "    temp = clone1[rnd:program_size]\n",
    "    clone1[rnd:program_size] = clone2[rnd:program_size]\n",
    "    clone2[rnd:program_size] = temp\n",
    "    return clone1, clone2\n",
    "end\n",
    "\n",
    "function two_point_crossover(program1, program2)\n",
    "    clone1 = deepcopy(program1)\n",
    "    clone2 = deepcopy(program2)\n",
    "    rnd = sort(rand((1:program_size),2))\n",
    "    temp = clone1[rnd[1]:rnd[2]]\n",
    "    clone1[rnd[1]:rnd[2]] = clone2[rnd[1]:rnd[2]]\n",
    "    clone2[rnd[1]:rnd[2]] = temp\n",
    "    return clone1, clone2\n",
    "end\n",
    "\n",
    "function uniform_crossover(program1, program2)\n",
    "    clone1 = deepcopy(program1)\n",
    "    clone2 = deepcopy(program2)\n",
    "    for i in 1:program_size\n",
    "        if clone1[i] == :(oracle(w)) || clone2[i] == :(oracle(w))\n",
    "            continue\n",
    "        elseif rand() > 0.5\n",
    "            temp = clone1[i]\n",
    "            clone1[i] = clone2[i]\n",
    "            clone2[i] = temp\n",
    "        end\n",
    "    end\n",
    "    return clone1, clone2\n",
    "end"
   ]
  },
  {
   "cell_type": "code",
   "execution_count": 8,
   "metadata": {},
   "outputs": [
    {
     "data": {
      "text/plain": [
       "fitness (generic function with 1 method)"
      ]
     },
     "execution_count": 8,
     "metadata": {},
     "output_type": "execute_result"
    }
   ],
   "source": [
    "ys = []\n",
    "for i in 1:(1 << N)\n",
    "    y = zeros(Int8, 1 << N)\n",
    "    y[i] = 1\n",
    "    push!(ys, y)\n",
    "end\n",
    "\n",
    "bell_state = zeros(Int8, 1 << N)\n",
    "bell_state[1] = 1\n",
    "#bell_state = HN() * bell_state\n",
    "\n",
    "function oracle(w)\n",
    "    x = ones(1 << N)\n",
    "    x[w] = -1\n",
    "    return Diagonal(x)\n",
    "  end\n",
    "\n",
    "function run_program(program, w)\n",
    "    output = bell_state\n",
    "    for i in program\n",
    "        if i == :(oracle(w))\n",
    "            output = oracle(w) * output\n",
    "        else\n",
    "            output = eval(i) * output\n",
    "        end\n",
    "    end\n",
    "    return output.^2\n",
    "end\n",
    "\n",
    "function fitness(program)\n",
    "    fitness = 0\n",
    "    for w in 1:(1 << N)\n",
    "        output = bell_state\n",
    "        for i in program\n",
    "            if i == :(oracle(w))\n",
    "                output = oracle(w) * output\n",
    "            else\n",
    "                output = eval(i) * output\n",
    "            end\n",
    "        end\n",
    "        fitness += sum(map((x,y) -> abs(x-y), ys[w], output.^2))\n",
    "    end\n",
    "    return fitness\n",
    "end"
   ]
  },
  {
   "cell_type": "code",
   "execution_count": 9,
   "metadata": {},
   "outputs": [
    {
     "data": {
      "text/plain": [
       "4-element Vector{Float64}:\n",
       " 0.4999999999999999\n",
       " 0.4999999999999999\n",
       " 0.4999999999999999\n",
       " 0.4999999999999999"
      ]
     },
     "execution_count": 9,
     "metadata": {},
     "output_type": "execute_result"
    }
   ],
   "source": [
    "H(1)*H(2)*bell_state"
   ]
  },
  {
   "cell_type": "code",
   "execution_count": 10,
   "metadata": {},
   "outputs": [
    {
     "data": {
      "text/plain": [
       "4×4 Matrix{Float64}:\n",
       "  1.0           0.0          -2.23711e-17   0.0\n",
       "  0.0           1.0           0.0          -2.23711e-17\n",
       " -2.23711e-17   0.0           1.0           0.0\n",
       "  0.0          -2.23711e-17   0.0           1.0"
      ]
     },
     "execution_count": 10,
     "metadata": {},
     "output_type": "execute_result"
    }
   ],
   "source": [
    "H(1)*H(1)"
   ]
  },
  {
   "cell_type": "code",
   "execution_count": 11,
   "metadata": {},
   "outputs": [],
   "source": [
    "program_size = 12\n",
    "population_size = 100\n",
    "nr_epochs = 30\n",
    "\n",
    "generate_program() = [get_gate() for i in 1:program_size]\n",
    "population = []\n",
    "for i in 1:population_size\n",
    "    temp = generate_program()\n",
    "    for i in 1:floor(pi/4*sqrt(1 << N))\n",
    "        push!(temp, :(oracle(w)))\n",
    "    end\n",
    "    push!(population, shuffle(temp))\n",
    "end"
   ]
  },
  {
   "cell_type": "code",
   "execution_count": 12,
   "metadata": {},
   "outputs": [],
   "source": [
    "mutations = [full_mutation index_mutation gate_mutation permute_mutation]\n",
    "crossovers = [one_point_crossover two_point_crossover uniform_crossover];"
   ]
  },
  {
   "cell_type": "code",
   "execution_count": 13,
   "metadata": {},
   "outputs": [
    {
     "data": {
      "text/plain": [
       "go (generic function with 1 method)"
      ]
     },
     "execution_count": 13,
     "metadata": {},
     "output_type": "execute_result"
    }
   ],
   "source": [
    "function go(population)\n",
    "    for i in 1:nr_epochs\n",
    "        display(i)\n",
    "        display(fitness(population[1]))\n",
    "        for i in 1:population_size/2\n",
    "            parents = sort(shuffle(population)[1:5], by = x -> fitness(x))[1:2]\n",
    "            childs = uniform_crossover(parents[1], parents[2])\n",
    "            if rand() < 0.75\n",
    "                childs = mutations[rand((1:4))].(childs)\n",
    "            end\n",
    "            push!(population, childs[1])\n",
    "            push!(population, childs[2])\n",
    "        end\n",
    "        population = sort(population, by = x -> fitness(x))[1:population_size]\n",
    "\n",
    "        if fitness(population[1]) < 0.1\n",
    "            display(i)\n",
    "            return population[1]\n",
    "        end\n",
    "    end\n",
    "    return population[1]\n",
    "end"
   ]
  },
  {
   "cell_type": "code",
   "execution_count": 14,
   "metadata": {},
   "outputs": [
    {
     "data": {
      "text/plain": [
       "13-element Vector{Expr}:\n",
       " :(X(1))\n",
       " :(Z(2))\n",
       " :(CNOT(2, 1))\n",
       " :(X(1))\n",
       " :(CNOT(2, 1))\n",
       " :(H(1))\n",
       " :(H(2))\n",
       " :(X(2))\n",
       " :(X(2))\n",
       " :(X(2))\n",
       " :(X(2))\n",
       " :(oracle(w))\n",
       " :(H(1))"
      ]
     },
     "metadata": {},
     "output_type": "display_data"
    },
    {
     "data": {
      "text/plain": [
       "13-element Vector{Expr}:\n",
       " :(X(1))\n",
       " :(Z(2))\n",
       " :(CNOT(2, 1))\n",
       " :(X(1))\n",
       " :(CNOT(2, 1))\n",
       " :(H(1))\n",
       " :(H(2))\n",
       " :(X(2))\n",
       " :(X(2))\n",
       " :(X(1))\n",
       " :(X(2))\n",
       " :(oracle(w))\n",
       " :(H(1))"
      ]
     },
     "metadata": {},
     "output_type": "display_data"
    }
   ],
   "source": [
    "display(population[1])\n",
    "display(index_mutation(population[1]))"
   ]
  }
 ],
 "metadata": {
  "kernelspec": {
   "display_name": "Julia 1.7.2",
   "language": "julia",
   "name": "julia-1.7"
  },
  "language_info": {
   "file_extension": ".jl",
   "mimetype": "application/julia",
   "name": "julia",
   "version": "1.7.2"
  },
  "orig_nbformat": 4,
  "vscode": {
   "interpreter": {
    "hash": "2572ea1b1ef9c8d2ad1a91dec6289fcd3897516dc536ea19b4e38370c1a20702"
   }
  }
 },
 "nbformat": 4,
 "nbformat_minor": 2
}
